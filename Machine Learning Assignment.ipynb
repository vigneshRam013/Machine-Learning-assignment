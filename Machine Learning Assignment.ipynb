{
 "cells": [
  {
   "cell_type": "markdown",
   "id": "e1c056b7",
   "metadata": {},
   "source": [
    "Question: 1\n",
    "\n",
    "P (C sunny/ a cone of ice-cream) = ?\n",
    "P (rainy /a cup of hot coffee)=?\n",
    "\n",
    "It is provided that each of the occurance is independent. So,\n",
    "\n",
    "P (a cone of ice cream) = P(a) (cone) P(of) P(ice) P(cream)\n",
    "\n",
    "Part: A\n",
    "\n",
    "P(Sunny/a cone of Ice-cream)\n",
    "\n",
    "Bayes theorem :P(A/B) = (PB/A)*P(A)/P(B)\n",
    "\n",
    "So the probability of (Sunny/a cone of Ice-cream) is,\n",
    "\n",
    "P (Sunny/a cone of Ice-cream) = P (a cone of Ice-cream/sunny) * (P (sunny)/ P(a cone of Ice-cream)) Also, as stated earlier the each of the occurance is independent: the tags with higher possibilities are classified by neglecting the denominator\n",
    "therefore: -\n",
    "\n",
    "P (Sunny/a cone of Ice-cream) = P(a/sunny) * P (Cone/sunny) * P (of/ sunny) * P(Ice/ sunny)* P (Cream/sunny)* P (Sunny)\n",
    "\n",
    "Part: B\n",
    "\n",
    "Similarly as above,\n",
    "\n",
    "P (rainy/a cup of hot coffee) = P(a/rainy).P(cup/rainy).P(of/rainy).P(hot/rainy).P(coffee/rainy).P(rainy)"
   ]
  }
 ],
 "metadata": {
  "kernelspec": {
   "display_name": "Python 3 (ipykernel)",
   "language": "python",
   "name": "python3"
  },
  "language_info": {
   "codemirror_mode": {
    "name": "ipython",
    "version": 3
   },
   "file_extension": ".py",
   "mimetype": "text/x-python",
   "name": "python",
   "nbconvert_exporter": "python",
   "pygments_lexer": "ipython3",
   "version": "3.9.12"
  }
 },
 "nbformat": 4,
 "nbformat_minor": 5
}
